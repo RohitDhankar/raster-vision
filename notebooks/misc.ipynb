{
 "cells": [
  {
   "cell_type": "markdown",
   "id": "168a2233-be4e-4488-b9b3-f0f25c912203",
   "metadata": {},
   "source": [
    "# Getting data from MLHub"
   ]
  },
  {
   "cell_type": "code",
   "execution_count": null,
   "id": "c9352e3a-e706-43b7-a9a8-3cb95abaf6b7",
   "metadata": {},
   "outputs": [],
   "source": [
    "!pip install radiant_mlhub"
   ]
  },
  {
   "cell_type": "code",
   "execution_count": null,
   "id": "43040d7c-5b70-46a0-bf4e-671cff8f8bc8",
   "metadata": {},
   "outputs": [],
   "source": [
    "import os\n",
    "os.environ['MLHUB_API_KEY'] = '3cc15d751176efa8d9d88c6efd04f48a1962094728a54560e27255ef27e3e1bf'\n",
    "\n",
    "from radiant_mlhub import client, get_session\n",
    "import requests\n",
    "\n",
    "collections = client.list_collections()\n",
    "\n",
    "def get_url(collection_id: str, item_num: int, asset_id: str) -> str:\n",
    "    assets = get_assets(collection_id, item_num)\n",
    "    href = assets[asset_id]['href']\n",
    "    session = get_session()\n",
    "    r = session.get(href, stream=True, allow_redirects=True)\n",
    "    return r.url\n",
    "\n",
    "def get_assets(collection_id: str, item_num: int) -> list:\n",
    "    collection = next(c for c in collections if c['id'] == collection_id)\n",
    "    item = list(client.list_collection_items(collection['id']))[item_num]\n",
    "    return item['assets']"
   ]
  },
  {
   "cell_type": "code",
   "execution_count": null,
   "id": "1f698c18-51d4-49e7-83bc-1505606e1286",
   "metadata": {},
   "outputs": [],
   "source": [
    "uri_seninel_2_rgb = get_url('c2smsfloods_v1_source_s2', 4, 'RGB')\n",
    "uri_seninel_2_swir = get_url('c2smsfloods_v1_source_s2', 4, 'SWIR')\n",
    "uri_seninel_1_vh = get_url('c2smsfloods_v1_source_s1', 4, 'VH')\n",
    "uri_seninel_1_vv = get_url('c2smsfloods_v1_source_s1', 4, 'VV')"
   ]
  },
  {
   "cell_type": "code",
   "execution_count": null,
   "id": "510c7a4c-996f-4e71-9337-e7693eaf5e04",
   "metadata": {},
   "outputs": [],
   "source": [
    "rs_sentinel_2_rgb = RasterioSource(uri_seninel_2_rgb, allow_streaming=True)\n",
    "rs_sentinel_2_swir = RasterioSource(uri_seninel_2_swir, allow_streaming=True)\n",
    "rs_seninel_1_vh = RasterioSource(uri_seninel_1_vh, allow_streaming=True)\n",
    "rs_seninel_1_vv = RasterioSource(uri_seninel_1_vv, allow_streaming=True)"
   ]
  }
 ],
 "metadata": {
  "kernelspec": {
   "display_name": "Python 3 (ipykernel)",
   "language": "python",
   "name": "python3"
  },
  "language_info": {
   "codemirror_mode": {
    "name": "ipython",
    "version": 3
   },
   "file_extension": ".py",
   "mimetype": "text/x-python",
   "name": "python",
   "nbconvert_exporter": "python",
   "pygments_lexer": "ipython3",
   "version": "3.7.7"
  }
 },
 "nbformat": 4,
 "nbformat_minor": 5
}
