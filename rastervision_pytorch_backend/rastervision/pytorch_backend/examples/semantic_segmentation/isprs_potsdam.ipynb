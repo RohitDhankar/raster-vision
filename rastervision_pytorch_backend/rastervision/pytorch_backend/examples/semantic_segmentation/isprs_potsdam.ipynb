{
 "cells": [
  {
   "cell_type": "code",
   "execution_count": 5,
   "metadata": {},
   "outputs": [],
   "source": [
    "# Need to do this before importing RV when running in a Docker container from VS Code.\n",
    "# This has to do with the fact that VS Code is not setting env vars in the notebook correctly.\n",
    "import os\n",
    "os.environ['GDAL_DATA'] = '/opt/conda/lib/python3.7/site-packages/rasterio/gdal_data/'"
   ]
  },
  {
   "cell_type": "code",
   "execution_count": 6,
   "metadata": {},
   "outputs": [],
   "source": [
    "from os.path import join\n",
    "\n",
    "from rastervision.pytorch_learner.dataset import SemanticSegmentationSlidingWindowGeoDataset\n",
    "from rastervision.core.data import ClassConfig\n",
    "\n",
    "TRAIN_IDS = [\n",
    "    '2_10', '2_11', '3_10', '3_11', '4_10', '4_11', '4_12', '5_10', '5_11',\n",
    "    '5_12', '6_10', '6_11', '6_7', '6_9', '7_10', '7_11', '7_12', '7_7', '7_8',\n",
    "    '7_9'\n",
    "]\n",
    "VAL_IDS = ['2_12', '3_12', '6_12']\n",
    "\n",
    "CLASS_NAMES = [\n",
    "    'Car', 'Building', 'Low Vegetation', 'Tree', 'Impervious', 'Clutter'\n",
    "]\n",
    "CLASS_COLORS = [\n",
    "    '#ffff00', '#0000ff', '#00ffff', '#00ff00', '#ffffff', '#ff0000'\n",
    "]"
   ]
  },
  {
   "cell_type": "code",
   "execution_count": 16,
   "metadata": {},
   "outputs": [
    {
     "name": "stderr",
     "output_type": "stream",
     "text": [
      "2022-08-30 22:27:34:rastervision.pipeline.file_system.utils: INFO - Using cached file /opt/data/tmp/cache/s3/raster-vision-raw-data/isprs-potsdam/4_Ortho_RGBIR/top_potsdam_2_10_RGBIR.tif.\n",
      "2022-08-30 22:27:46:rastervision.pipeline.file_system.utils: INFO - Using cached file /opt/data/tmp/cache/s3/raster-vision-raw-data/isprs-potsdam/5_Labels_for_participants/top_potsdam_2_10_label.tif.\n",
      "2022-08-30 22:29:55:rastervision.pipeline.file_system.utils: INFO - Using cached file /opt/data/tmp/cache/s3/raster-vision-raw-data/isprs-potsdam/4_Ortho_RGBIR/top_potsdam_2_10_RGBIR.tif.\n",
      "2022-08-30 22:29:55:rastervision.pipeline.file_system.utils: INFO - Using cached file /opt/data/tmp/cache/s3/raster-vision-raw-data/isprs-potsdam/5_Labels_for_participants/top_potsdam_2_10_label.tif.\n"
     ]
    }
   ],
   "source": [
    "class_config = ClassConfig(names=CLASS_NAMES, colors=CLASS_COLORS)\n",
    "\n",
    "scene_id = '2_10'\n",
    "scene_id = scene_id.replace('-', '_')\n",
    "raw_uri = 's3://raster-vision-raw-data/isprs-potsdam'\n",
    "image_uri = join(raw_uri, f'4_Ortho_RGBIR/top_potsdam_{scene_id}_RGBIR.tif')\n",
    "label_uri = join(raw_uri, f'5_Labels_for_participants/top_potsdam_{scene_id}_label.tif')\n",
    "\n",
    "# TODO pass in a custom augmentation\n",
    "ds = SemanticSegmentationSlidingWindowGeoDataset.from_uris(\n",
    "    class_config=class_config,\n",
    "    image_uri=image_uri,\n",
    "    label_raster_uri=label_uri,\n",
    "    size=300,\n",
    "    stride=300)\n",
    "\n",
    "x, y = ds[0]"
   ]
  }
 ],
 "metadata": {
  "kernelspec": {
   "display_name": "Python 3.7.6 ('base')",
   "language": "python",
   "name": "python3"
  },
  "language_info": {
   "codemirror_mode": {
    "name": "ipython",
    "version": 3
   },
   "file_extension": ".py",
   "mimetype": "text/x-python",
   "name": "python",
   "nbconvert_exporter": "python",
   "pygments_lexer": "ipython3",
   "version": "3.7.6"
  },
  "orig_nbformat": 4,
  "vscode": {
   "interpreter": {
    "hash": "d4d1e4263499bec80672ea0156c357c1ee493ec2b1c70f0acce89fc37c4a6abe"
   }
  }
 },
 "nbformat": 4,
 "nbformat_minor": 2
}
